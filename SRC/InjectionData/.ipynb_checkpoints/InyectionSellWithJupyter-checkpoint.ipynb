{
 "cells": [
  {
   "cell_type": "code",
   "execution_count": 2,
   "id": "3b184a05",
   "metadata": {},
   "outputs": [
    {
     "name": "stdout",
     "output_type": "stream",
     "text": [
      "la conección se ha cerrado exitosamente\n"
     ]
    }
   ],
   "source": [
    "import mysql.connector \n",
    "from mysql.connector import Error\n",
    "from UnionSells import TOTAL_SELLER\n",
    "\n",
    "try:\n",
    "    connection=mysql.connector.connect(\n",
    "        host='localhost',\n",
    "        port=3306,\n",
    "        user='root',\n",
    "        password='89JQuery78#',\n",
    "        db='papercompany'\n",
    "    )\n",
    "    QUERY_INJECTION=\"\"\" INSERT INTO sells (IDPRODUCTS,IDSELLER,QUANTITY)\n",
    "                        VALUES (%s, %s, %s)\"\"\"\n",
    "    cursor=connection.cursor()\n",
    "    cursor.executemany(QUERY_INJECTION,TOTAL_SELLER)\n",
    "    connection.commit()\n",
    "\n",
    "except Exception as ex:\n",
    "    raise Exception(ex)\n",
    "\n",
    "finally:\n",
    "    if connection.is_connected():\n",
    "        connection.close()\n",
    "        print('la conección se ha cerrado exitosamente')"
   ]
  },
  {
   "cell_type": "code",
   "execution_count": null,
   "id": "60919ca0",
   "metadata": {},
   "outputs": [],
   "source": []
  }
 ],
 "metadata": {
  "kernelspec": {
   "display_name": "Python 3 (ipykernel)",
   "language": "python",
   "name": "python3"
  },
  "language_info": {
   "codemirror_mode": {
    "name": "ipython",
    "version": 3
   },
   "file_extension": ".py",
   "mimetype": "text/x-python",
   "name": "python",
   "nbconvert_exporter": "python",
   "pygments_lexer": "ipython3",
   "version": "3.10.1"
  },
  "toc": {
   "base_numbering": 1,
   "nav_menu": {},
   "number_sections": true,
   "sideBar": true,
   "skip_h1_title": false,
   "title_cell": "Table of Contents",
   "title_sidebar": "Contents",
   "toc_cell": false,
   "toc_position": {},
   "toc_section_display": true,
   "toc_window_display": false
  }
 },
 "nbformat": 4,
 "nbformat_minor": 5
}
